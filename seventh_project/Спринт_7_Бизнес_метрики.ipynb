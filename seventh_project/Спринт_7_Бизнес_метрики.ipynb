create a folder for seventh project
